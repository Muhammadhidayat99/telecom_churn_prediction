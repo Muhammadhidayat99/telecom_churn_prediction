{
 "cells": [
  {
   "cell_type": "code",
   "execution_count": 35,
   "id": "0c936a46",
   "metadata": {},
   "outputs": [],
   "source": [
    "import pandas as pd\n",
    "\n",
    "import numpy as np"
   ]
  },
  {
   "cell_type": "code",
   "execution_count": 36,
   "id": "50dfa29c",
   "metadata": {},
   "outputs": [],
   "source": [
    "# Generate mock customer data\n",
    "\n",
    "np.random.seed(42)\n",
    "\n",
    "num_customers = 2000\n",
    "\n",
    "\n",
    "\n",
    "data = {\n",
    "\n",
    "    'CustomerID': [f'CUST{1000+i}' for i in range(num_customers)],\n",
    "\n",
    "    'Gender': np.random.choice(['Male', 'Female'], num_customers, p=[0.5, 0.5]),\n",
    "\n",
    "    'SeniorCitizen': np.random.choice([0, 1], num_customers, p=[0.84, 0.16]),\n",
    "\n",
    "    'Partner': np.random.choice(['Yes', 'No'], num_customers, p=[0.48, 0.52]),\n",
    "\n",
    "    'Dependents': np.random.choice(['Yes', 'No'], num_customers, p=[0.3, 0.7]),\n",
    "\n",
    "    'Tenure': np.random.randint(1, 73, num_customers), # Months\n",
    "\n",
    "    'PhoneService': np.random.choice(['Yes', 'No'], num_customers, p=[0.9, 0.1]),\n",
    "\n",
    "    'MultipleLines': np.random.choice(['Yes', 'No', 'No phone service'], num_customers, p=[0.42, 0.48, 0.1]),\n",
    "\n",
    "    'InternetService': np.random.choice(['DSL', 'Fiber optic', 'No'], num_customers, p=[0.34, 0.44, 0.22]),\n",
    "\n",
    "    'OnlineSecurity': np.random.choice(['Yes', 'No', 'No internet service'], num_customers, p=[0.28, 0.50, 0.22]),\n",
    "\n",
    "    'OnlineBackup': np.random.choice(['Yes', 'No', 'No internet service'], num_customers, p=[0.34, 0.44, 0.22]),\n",
    "\n",
    "    'DeviceProtection': np.random.choice(['Yes', 'No', 'No internet service'], num_customers, p=[0.34, 0.44, 0.22]),\n",
    "\n",
    "    'TechSupport': np.random.choice(['Yes', 'No', 'No internet service'], num_customers, p=[0.29, 0.49, 0.22]),\n",
    "\n",
    "    'StreamingTV': np.random.choice(['Yes', 'No', 'No internet service'], num_customers, p=[0.38, 0.40, 0.22]),\n",
    "\n",
    "    'StreamingMovies': np.random.choice(['Yes', 'No', 'No internet service'], num_customers, p=[0.39, 0.39, 0.22]),\n",
    "\n",
    "    'Contract': np.random.choice(['Month-to-month', 'One year', 'Two year'], num_customers, p=[0.55, 0.24, 0.21]),\n",
    "\n",
    "    'PaperlessBilling': np.random.choice(['Yes', 'No'], num_customers, p=[0.59, 0.41]),\n",
    "\n",
    "    'PaymentMethod': np.random.choice(['Electronic check', 'Mailed check', 'Bank transfer (automatic)', 'Credit card (automatic)'], num_customers, p=[0.34, 0.23, 0.22, 0.21]),\n",
    "\n",
    "    'MonthlyCharges': np.random.normal(loc=65, scale=30, size=num_customers).clip(18, 120).round(2),\n",
    "\n",
    "}\n",
    "\n",
    "df_customers = pd.DataFrame(data)"
   ]
  },
  {
   "cell_type": "code",
   "execution_count": 37,
   "id": "28672a70",
   "metadata": {},
   "outputs": [],
   "source": [
    "# Generate TotalCharges based on Tenure and MonthlyCharges with some noise\n",
    "\n",
    "df_customers['TotalCharges'] = (df_customers['Tenure'] * df_customers['MonthlyCharges'] * np.random.uniform(0.95, 1.05, num_customers)).round(2)\n"
   ]
  },
  {
   "cell_type": "code",
   "execution_count": 38,
   "id": "2b660ae5",
   "metadata": {},
   "outputs": [],
   "source": [
    "# Make some TotalCharges empty for realism (e.g., new customers with 0 tenure)\n",
    "\n",
    "# df_customers.loc[df_customers['Tenure'] == 1, 'TotalCharges'] = df_customers['MonthlyCharges']\n",
    "\n",
    "# df_customers.loc[np.random.choice(df_customers.index, size=int(num_customers*0.01), replace=False) & (df_customers['Tenure'] < 3), 'TotalCharges'] = np.nan\n"
   ]
  },
  {
   "cell_type": "markdown",
   "id": "da17cd7f",
   "metadata": {},
   "source": [
    "& operator in above code is attempting to combine two arrays of different shapes, which leads to the error.\n",
    "We first filter the indices based on conditions separately and then use those indices to set TotalCharges to NaN in the next cell."
   ]
  },
  {
   "cell_type": "code",
   "execution_count": 39,
   "id": "c425dbac",
   "metadata": {},
   "outputs": [],
   "source": [
    "# Make some TotalCharges empty for realism (e.g., new customers with 0 tenure)\n",
    "# For customers with tenure == 1, set TotalCharges equal to MonthlyCharges\n",
    "df_customers.loc[df_customers['Tenure'] == 1, 'TotalCharges'] = df_customers['MonthlyCharges']\n",
    "\n",
    "# Select a random sample of indices where Tenure is less than 3\n",
    "indices_to_nan = np.random.choice(df_customers[df_customers['Tenure'] < 3].index,\n",
    "                                  size=int(len(df_customers) * 0.01),\n",
    "                                  replace=False)\n",
    "\n",
    "# Set 'TotalCharges' to NaN for the selected indices\n",
    "df_customers.loc[indices_to_nan, 'TotalCharges'] = np.nan"
   ]
  },
  {
   "cell_type": "code",
   "execution_count": 40,
   "id": "b83a6b06",
   "metadata": {},
   "outputs": [],
   "source": [
    "# Simulate Churn (more likely for month-to-month, higher charges, lower tenure)\n",
    "\n",
    "churn_probability = 0.1 \\\n",
    "\n",
    "+ 0.15 * (df_customers['Contract'] == 'Month-to-month') \\\n",
    "\n",
    "+ 0.1 * (df_customers['InternetService'] == 'Fiber optic') \\\n",
    "\n",
    "+ 0.001 * (df_customers['MonthlyCharges'] - 65) \\\n",
    "\n",
    "- 0.002 * (df_customers['Tenure'] - 36) \\\n",
    "\n",
    "+ 0.1 * (df_customers['OnlineSecurity'] == 'No') \\\n",
    "\n",
    "+ 0.1 * (df_customers['TechSupport'] == 'No')\n",
    "\n",
    "\n",
    "\n",
    "churn_probability = np.clip(churn_probability, 0.01, 0.99)\n",
    "\n",
    "df_customers['Churn'] = np.random.binomial(1, churn_probability, num_customers).astype(str)\n",
    "\n",
    "df_customers['Churn'] = df_customers['Churn'].replace({'1': 'Yes', '0': 'No'})\n"
   ]
  },
  {
   "cell_type": "code",
   "execution_count": 41,
   "id": "01cfe3da",
   "metadata": {},
   "outputs": [],
   "source": [
    "# Replace 'No phone service' and 'No internet service' for consistency\n",
    "\n",
    "for col in ['MultipleLines']:\n",
    "\n",
    "    df_customers[col] = df_customers.apply(lambda row: 'No' if row['PhoneService'] == 'No' else row[col], axis=1)\n",
    "\n",
    "\n",
    "\n",
    "for col in ['OnlineSecurity', 'OnlineBackup', 'DeviceProtection', 'TechSupport', 'StreamingTV', 'StreamingMovies']:\n",
    "\n",
    "    df_customers[col] = df_customers.apply(lambda row: 'No' if row['InternetService'] == 'No' else row[col], axis=1)\n"
   ]
  },
  {
   "cell_type": "code",
   "execution_count": 42,
   "id": "f2eca04a",
   "metadata": {},
   "outputs": [
    {
     "name": "stdout",
     "output_type": "stream",
     "text": [
      "Mock telecom churn data generated: telecom_churn_mock_data.csv\n",
      "  CustomerID  Gender  SeniorCitizen Partner Dependents  Tenure PhoneService  \\\n",
      "0   CUST1000    Male              0      No         No      30          Yes   \n",
      "1   CUST1001  Female              0      No        Yes      11          Yes   \n",
      "2   CUST1002  Female              1      No         No      17           No   \n",
      "3   CUST1003  Female              0     Yes         No      26          Yes   \n",
      "4   CUST1004    Male              0     Yes        Yes      23          Yes   \n",
      "\n",
      "  MultipleLines InternetService       OnlineSecurity  ... DeviceProtection  \\\n",
      "0           Yes              No                   No  ...               No   \n",
      "1           Yes     Fiber optic  No internet service  ...               No   \n",
      "2            No     Fiber optic                   No  ...               No   \n",
      "3            No              No                   No  ...               No   \n",
      "4            No     Fiber optic  No internet service  ...               No   \n",
      "\n",
      "           TechSupport StreamingTV      StreamingMovies        Contract  \\\n",
      "0                   No          No                   No  Month-to-month   \n",
      "1  No internet service          No  No internet service  Month-to-month   \n",
      "2                   No         Yes                   No        Two year   \n",
      "3                   No          No                   No        One year   \n",
      "4                  Yes          No                  Yes  Month-to-month   \n",
      "\n",
      "  PaperlessBilling              PaymentMethod MonthlyCharges  TotalCharges  \\\n",
      "0               No  Bank transfer (automatic)          69.55       2047.01   \n",
      "1              Yes           Electronic check          48.08        522.42   \n",
      "2               No           Electronic check          36.56        610.07   \n",
      "3              Yes  Bank transfer (automatic)          79.72       2159.26   \n",
      "4              Yes               Mailed check          70.42       1672.56   \n",
      "\n",
      "   Churn  \n",
      "0     No  \n",
      "1     No  \n",
      "2     No  \n",
      "3     No  \n",
      "4     No  \n",
      "\n",
      "[5 rows x 21 columns]\n",
      "\n",
      "Churn distribution:\n",
      "Churn\n",
      "No     0.8825\n",
      "Yes    0.1175\n",
      "Name: proportion, dtype: float64\n"
     ]
    }
   ],
   "source": [
    "# Save to CSV\n",
    "\n",
    "df_customers.to_csv('telecom_churn_mock_data.csv', index=False)\n",
    "\n",
    "print(\"Mock telecom churn data generated: telecom_churn_mock_data.csv\")\n",
    "\n",
    "print(df_customers.head())\n",
    "\n",
    "print(f\"\\nChurn distribution:\\n{df_customers['Churn'].value_counts(normalize=True)}\")"
   ]
  }
 ],
 "metadata": {
  "kernelspec": {
   "display_name": "ml_env",
   "language": "python",
   "name": "python3"
  },
  "language_info": {
   "codemirror_mode": {
    "name": "ipython",
    "version": 3
   },
   "file_extension": ".py",
   "mimetype": "text/x-python",
   "name": "python",
   "nbconvert_exporter": "python",
   "pygments_lexer": "ipython3",
   "version": "3.10.16"
  }
 },
 "nbformat": 4,
 "nbformat_minor": 5
}
